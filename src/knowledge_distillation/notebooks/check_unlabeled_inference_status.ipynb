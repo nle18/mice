{
 "cells": [
  {
   "cell_type": "code",
   "execution_count": 1,
   "metadata": {},
   "outputs": [
    {
     "name": "stdout",
     "output_type": "stream",
     "text": [
      "/srv/share5/fbai31/miniconda3/envs/axcell/bin/python\n"
     ]
    }
   ],
   "source": [
    "!which python"
   ]
  },
  {
   "cell_type": "code",
   "execution_count": 2,
   "metadata": {},
   "outputs": [],
   "source": [
    "import os, json"
   ]
  },
  {
   "cell_type": "code",
   "execution_count": 3,
   "metadata": {},
   "outputs": [
    {
     "name": "stdout",
     "output_type": "stream",
     "text": [
      "Number of infered documents: 500\n",
      "Number of finished documents: 500\n"
     ]
    }
   ],
   "source": [
    "num_infered = 0\n",
    "num_finished = 0\n",
    "\n",
    "for doc_id in os.listdir('../output/unlabeled_best_trial'):\n",
    "\n",
    "    file_path = os.path.join('../output/unlabeled_best_trial', doc_id, 'monitoring.json')\n",
    "\n",
    "    # Check if the file exists\n",
    "    if not os.path.isfile(file_path):\n",
    "        continue\n",
    "\n",
    "    num_infered += 1\n",
    "\n",
    "    # Load status json file\n",
    "    with open(file_path) as f:\n",
    "        status = json.load(f)\n",
    "\n",
    "        if status['num_predictions'] != 100:\n",
    "            print(doc_id, status['num_predictions'])\n",
    "        else:\n",
    "            num_finished += 1\n",
    "\n",
    "print('Number of infered documents:', num_infered)\n",
    "print('Number of finished documents:', num_finished)"
   ]
  },
  {
   "cell_type": "code",
   "execution_count": 4,
   "metadata": {},
   "outputs": [],
   "source": [
    "exp_dir= '../output/unlabeled_best_trial'\n",
    "prompt_map_filepath = os.path.join(exp_dir, \"prompt_map.json\")\n",
    "with open(prompt_map_filepath, \"r\") as f:\n",
    "    prompt_map = json.load(f)\n",
    "    test_id_list = sorted(prompt_map.keys())\n",
    "# print(test_id_list)"
   ]
  },
  {
   "cell_type": "code",
   "execution_count": 5,
   "metadata": {},
   "outputs": [],
   "source": [
    "current_dir = os.listdir('../output/unlabeled_best_trial')"
   ]
  },
  {
   "cell_type": "code",
   "execution_count": 6,
   "metadata": {},
   "outputs": [],
   "source": [
    "for doc_idx, doc_id in enumerate(test_id_list):\n",
    "    if doc_id not in current_dir:\n",
    "    #     print(doc_id)\n",
    "    # else:\n",
    "        print('Missing:', doc_idx, doc_id)"
   ]
  },
  {
   "cell_type": "code",
   "execution_count": null,
   "metadata": {},
   "outputs": [],
   "source": []
  }
 ],
 "metadata": {
  "interpreter": {
   "hash": "45367ee2cf2806cb39653d6d569d72d06d28f1382da41927ae6ff85981547c29"
  },
  "kernelspec": {
   "display_name": "Python 3.7.12 ('axcell')",
   "language": "python",
   "name": "python3"
  },
  "language_info": {
   "codemirror_mode": {
    "name": "ipython",
    "version": 3
   },
   "file_extension": ".py",
   "mimetype": "text/x-python",
   "name": "python",
   "nbconvert_exporter": "python",
   "pygments_lexer": "ipython3",
   "version": "3.7.12"
  },
  "orig_nbformat": 4
 },
 "nbformat": 4,
 "nbformat_minor": 2
}
