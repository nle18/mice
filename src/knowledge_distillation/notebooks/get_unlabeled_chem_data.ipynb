{
 "cells": [
  {
   "cell_type": "code",
   "execution_count": 2,
   "id": "c464ecfb",
   "metadata": {},
   "outputs": [
    {
     "name": "stdout",
     "output_type": "stream",
     "text": [
      "/srv/share5/fbai31/miniconda3/envs/axcell/bin/python\n"
     ]
    }
   ],
   "source": [
    "!which python"
   ]
  },
  {
   "cell_type": "code",
   "execution_count": 3,
   "id": "2f45da24",
   "metadata": {},
   "outputs": [],
   "source": [
    "from collections import defaultdict\n",
    "import random\n",
    "import json"
   ]
  },
  {
   "cell_type": "markdown",
   "id": "4d5be1e0",
   "metadata": {},
   "source": [
    "# Load unlabeled files"
   ]
  },
  {
   "cell_type": "code",
   "execution_count": 4,
   "id": "2128ba44",
   "metadata": {},
   "outputs": [],
   "source": [
    "DATA_SOURCE = {\n",
    "    'uspto_grant': '/srv/share5/fbai31/procedure/demo/raw/uspto_grant_1976_2000_merged',\n",
    "    'uspto_app': '/srv/share5/fbai31/procedure/demo/raw/uspto_app_2001_2016_merged',\n",
    "    'epo': '/srv/share5/fbai31/procedure/demo/raw/epo_merged',\n",
    "    'pubmed': '/srv/share5/fbai31/procedure/demo/raw/pubmed_proceedures_merged',\n",
    "}"
   ]
  },
  {
   "cell_type": "code",
   "execution_count": 5,
   "id": "cdfd294e",
   "metadata": {},
   "outputs": [],
   "source": [
    "def load_merged_chem_paragraphs(data_source, data_name='chemsyn'):\n",
    "    doc_sens = defaultdict(list)\n",
    "    merge_data_path = DATA_SOURCE[data_source]\n",
    "    print(\"Load merged files from:\", merge_data_path)\n",
    "\n",
    "    with open(merge_data_path, 'r') as fh:\n",
    "        for line_idx, line in enumerate(fh):\n",
    "\n",
    "            if line_idx and line_idx % 500000 == 0:\n",
    "                print(line_idx, len(doc_sens))\n",
    "\n",
    "            if data_name in ['chemsyn', 'chemu']:\n",
    "\n",
    "                if len(line.strip().split('&&&&&&')) != 2:\n",
    "                    print(line)\n",
    "                    continue\n",
    "\n",
    "                doc_id, sen_text = line.strip().split('&&&&&&')\n",
    "\n",
    "            elif data_name == 'pubmed':\n",
    "\n",
    "                if 'https://www' in line:\n",
    "                    continue\n",
    "\n",
    "                if len(line.strip().split('\\t')) < 2:\n",
    "                    continue\n",
    "\n",
    "                if len(line.strip().split('\\t')) > 2:\n",
    "                    # print(line)\n",
    "                    continue\n",
    "\n",
    "                doc_id, sen_text = line.strip().split('\\t')[:2]\n",
    "\n",
    "            doc_sens[doc_id].append(sen_text)\n",
    "    print(\"# files:\", len(doc_sens))\n",
    "    \n",
    "    return doc_sens"
   ]
  },
  {
   "cell_type": "code",
   "execution_count": 6,
   "id": "9ff8e773",
   "metadata": {},
   "outputs": [
    {
     "name": "stdout",
     "output_type": "stream",
     "text": [
      "Load merged files from: /srv/share5/fbai31/procedure/demo/raw/uspto_app_2001_2016_merged\n",
      "500000 87037\n",
      "1000000 175003\n",
      "1500000 261299\n",
      "2000000 348183\n",
      "2500000 434575\n",
      "3000000 521467\n",
      "3500000 607812\n",
      "4000000 693353\n",
      "4500000 780369\n",
      "5000000 865912\n",
      "5500000 951264\n",
      "6000000 1036757\n",
      "6500000 1121858\n",
      "7000000 1207659\n",
      "7500000 1293230\n",
      "8000000 1377044\n",
      "8500000 1460845\n",
      "9000000 1544518\n",
      "9500000 1627674\n",
      "10000000 1710660\n",
      "10500000 1794055\n",
      "11000000 1875879\n",
      "# files: 1939253\n"
     ]
    }
   ],
   "source": [
    "doc_sens = load_merged_chem_paragraphs('uspto_app')"
   ]
  },
  {
   "cell_type": "code",
   "execution_count": 7,
   "id": "b70f2be0",
   "metadata": {},
   "outputs": [
    {
     "data": {
      "text/plain": [
       "['I20150219_55_US20150048284A1',\n",
       " '20030327_169_US20030060453A1',\n",
       " 'I20160519_4140_US20160139133A1',\n",
       " '20040219_34_US20040033896A1',\n",
       " 'I20141002_3204_US20140296208A1',\n",
       " '20020131_481_US20020013328A1',\n",
       " 'I20111208_3063_US20110301203A1',\n",
       " 'I20100916b_9_US20100233086A1',\n",
       " 'I20131017_3285_US20130274475A1',\n",
       " 'I20160714_3665_US20160200686A1']"
      ]
     },
     "execution_count": 7,
     "metadata": {},
     "output_type": "execute_result"
    }
   ],
   "source": [
    "doc_names = list(doc_sens.keys())\n",
    "random.seed(1234)\n",
    "random.shuffle(doc_names)\n",
    "doc_names[:10]"
   ]
  },
  {
   "cell_type": "code",
   "execution_count": 10,
   "id": "93fc839a",
   "metadata": {},
   "outputs": [
    {
     "data": {
      "text/plain": [
       "['NoHeadingText',\n",
       " 'To benzyl 2-(benzyloxy)-5-(2-hydroxyacetyl)benzoate (80 mg, 0.21 mmol) in anhydrous THF (2 mL) was added 1-((4-(tert-butyl)phenoxy)carbonyl)-3-methyl-1H-imidazol-3-ium tetrafluoroboroate (55 mg, 0.21 mmol) and the mixture was stirred at room temperature overnight.',\n",
       " 'TLC showed that the reaction was incomplete and the mixture was heated at reflux for 5 h.',\n",
       " 'The impure material was dry-loaded onto silica and was purified using a Biotage Isolera automated chromatography system under normal phase conditions (silica column, gradient of 10→100% ethyl acetate in petrol) with detection at 254 nm to give benzyl 2-(benzyloxy)-5-(2-(((4-(tert-butyl)phenoxy)carbonyl)oxy)acetyl)benzoate (88 mg, 80%), as a colorless oil.']"
      ]
     },
     "execution_count": 10,
     "metadata": {},
     "output_type": "execute_result"
    }
   ],
   "source": [
    "doc_sens['I20160519_4140_US20160139133A1']"
   ]
  },
  {
   "cell_type": "code",
   "execution_count": 11,
   "id": "ed3039dc",
   "metadata": {},
   "outputs": [],
   "source": [
    "doc_sens_selected = {}\n",
    "\n",
    "for doc_name in doc_names:\n",
    "    \n",
    "    if doc_sens[doc_name][0] != 'NoHeadingText' and len(doc_sens[doc_name]) > 5 and '1H NMR' not in ' '.join(doc_sens[doc_name]):\n",
    "        \n",
    "        if len(doc_sens_selected) >= 5000:\n",
    "            break\n",
    "        \n",
    "        doc_sens_selected[doc_name] = doc_sens[doc_name]\n",
    "    \n",
    "#     break"
   ]
  },
  {
   "cell_type": "code",
   "execution_count": 12,
   "id": "2c5ef10e",
   "metadata": {},
   "outputs": [
    {
     "data": {
      "text/plain": [
       "5000"
      ]
     },
     "execution_count": 12,
     "metadata": {},
     "output_type": "execute_result"
    }
   ],
   "source": [
    "len(doc_sens_selected)"
   ]
  },
  {
   "cell_type": "code",
   "execution_count": 13,
   "id": "a45c8c09",
   "metadata": {},
   "outputs": [
    {
     "name": "stdout",
     "output_type": "stream",
     "text": [
      "/coc/pskynet5/fbai31/in_context_anaphora/fan/notebooks\n"
     ]
    }
   ],
   "source": [
    "!pwd"
   ]
  },
  {
   "cell_type": "code",
   "execution_count": 11,
   "id": "97a8d40c",
   "metadata": {},
   "outputs": [
    {
     "name": "stdout",
     "output_type": "stream",
     "text": [
      "ChemuRef_v2  ChemuRef_v3  unlabeled\n"
     ]
    }
   ],
   "source": [
    "!ls ../../data"
   ]
  },
  {
   "cell_type": "markdown",
   "id": "4bbfa1b7",
   "metadata": {},
   "source": [
    "# Dump unlabeled data"
   ]
  },
  {
   "cell_type": "code",
   "execution_count": 14,
   "id": "3da3af8d",
   "metadata": {},
   "outputs": [],
   "source": [
    "unlabeled_filepath = '/srv/share5/fbai31/in_context_anaphora/data/unlabeled/uspto_5000_paras.json'"
   ]
  },
  {
   "cell_type": "code",
   "execution_count": 15,
   "id": "5ba79899",
   "metadata": {},
   "outputs": [],
   "source": [
    "with open(unlabeled_filepath, \"w\") as f:\n",
    "    json.dump(doc_sens_selected, f, indent=4)"
   ]
  },
  {
   "cell_type": "code",
   "execution_count": null,
   "id": "c26ad981",
   "metadata": {},
   "outputs": [],
   "source": []
  }
 ],
 "metadata": {
  "interpreter": {
   "hash": "45367ee2cf2806cb39653d6d569d72d06d28f1382da41927ae6ff85981547c29"
  },
  "kernelspec": {
   "display_name": "Python 3.7.12 ('axcell')",
   "language": "python",
   "name": "python3"
  },
  "language_info": {
   "codemirror_mode": {
    "name": "ipython",
    "version": 3
   },
   "file_extension": ".py",
   "mimetype": "text/x-python",
   "name": "python",
   "nbconvert_exporter": "python",
   "pygments_lexer": "ipython3",
   "version": "3.7.12"
  }
 },
 "nbformat": 4,
 "nbformat_minor": 5
}
