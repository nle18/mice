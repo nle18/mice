{
 "cells": [
  {
   "cell_type": "code",
   "execution_count": 12,
   "metadata": {},
   "outputs": [],
   "source": [
    "import json\n",
    "from collections import Counter, defaultdict"
   ]
  },
  {
   "cell_type": "code",
   "execution_count": 3,
   "metadata": {},
   "outputs": [],
   "source": [
    "def read_data(filepath: str) -> dict:\n",
    "    data = dict()\n",
    "    with open(filepath, \"r\") as f:\n",
    "        for line in f.readlines():\n",
    "            example = json.loads(line)\n",
    "            doc_id = example[\"example_id\"].split(\"-\")[0]\n",
    "            context = example[\"context\"]\n",
    "            anaphor = example[\"anaphor\"]\n",
    "\n",
    "            # find index of anaphor in context (from the right to ensure the right anaphor)\n",
    "            anaphor_index = context.rfind(anaphor)\n",
    "\n",
    "            if doc_id not in data:\n",
    "                data[doc_id] = {\n",
    "                    \"context\": example[\"context\"],\n",
    "                    \"gold_anaphors\": [(anaphor, anaphor_index)],\n",
    "                }\n",
    "            else:\n",
    "                if len(context) > len(data[doc_id][\"context\"]):\n",
    "                    data[doc_id][\"context\"] = context\n",
    "                data[doc_id][\"gold_anaphors\"].append((anaphor, anaphor_index))\n",
    "\n",
    "    return data\n"
   ]
  },
  {
   "cell_type": "code",
   "execution_count": 8,
   "metadata": {},
   "outputs": [
    {
     "data": {
      "text/plain": [
       "867"
      ]
     },
     "execution_count": 8,
     "metadata": {},
     "output_type": "execute_result"
    }
   ],
   "source": [
    "# input_data_path = \"/data/fbai31/in_context_anaphora/data/ChemuRef/lm_trimmed_data/train/k32/trial0.jsonl\"\n",
    "input_data_path = \"/data/fbai31/in_context_anaphora/data/ChemuRef/lm_trimmed_data/train/kfull.jsonl\"\n",
    "data = read_data(input_data_path)\n",
    "len(data)"
   ]
  },
  {
   "cell_type": "code",
   "execution_count": 19,
   "metadata": {},
   "outputs": [],
   "source": [
    "# Anaphora number distribution\n",
    "\n",
    "# for doc_id, doc_data in data.items():\n",
    "#     print(doc_id, len(doc_data[\"gold_anaphors\"]))\n",
    "\n",
    "ana_num_dist = Counter(len(doc_data[\"gold_anaphors\"]) for doc_id, doc_data in data.items())"
   ]
  },
  {
   "cell_type": "code",
   "execution_count": 20,
   "metadata": {},
   "outputs": [
    {
     "data": {
      "text/plain": [
       "[(4, 147),\n",
       " (5, 146),\n",
       " (6, 121),\n",
       " (7, 83),\n",
       " (3, 78),\n",
       " (1, 77),\n",
       " (2, 60),\n",
       " (8, 56),\n",
       " (9, 26),\n",
       " (10, 22),\n",
       " (11, 19),\n",
       " (14, 5),\n",
       " (12, 4),\n",
       " (19, 3),\n",
       " (15, 3),\n",
       " (18, 2),\n",
       " (13, 2),\n",
       " (35, 2),\n",
       " (17, 2),\n",
       " (47, 1),\n",
       " (23, 1),\n",
       " (16, 1),\n",
       " (34, 1),\n",
       " (24, 1),\n",
       " (33, 1),\n",
       " (53, 1),\n",
       " (27, 1),\n",
       " (20, 1)]"
      ]
     },
     "execution_count": 20,
     "metadata": {},
     "output_type": "execute_result"
    }
   ],
   "source": [
    "sorted(ana_num_dist.items(), key=lambda x: x[1], reverse=True)"
   ]
  },
  {
   "cell_type": "code",
   "execution_count": 26,
   "metadata": {},
   "outputs": [
    {
     "name": "stdout",
     "output_type": "stream",
     "text": [
      "768 867 0.8858131487889274\n"
     ]
    }
   ],
   "source": [
    "top_eight_ana_num = sum([ana_num_dist[ana_num] for ana_num in range(1, 9)])\n",
    "total_ana_num = sum(ana_num_dist.values())\n",
    "print(top_eight_ana_num, total_ana_num, top_eight_ana_num / total_ana_num)"
   ]
  },
  {
   "cell_type": "code",
   "execution_count": null,
   "metadata": {},
   "outputs": [],
   "source": []
  }
 ],
 "metadata": {
  "interpreter": {
   "hash": "9d57e17210133b35fc69a97c618be4c1bb476f3528aeb558be9ad7925c973490"
  },
  "kernelspec": {
   "display_name": "Python 3.10.0 ('gptj-gpu')",
   "language": "python",
   "name": "python3"
  },
  "language_info": {
   "codemirror_mode": {
    "name": "ipython",
    "version": 3
   },
   "file_extension": ".py",
   "mimetype": "text/x-python",
   "name": "python",
   "nbconvert_exporter": "python",
   "pygments_lexer": "ipython3",
   "version": "3.10.0"
  },
  "orig_nbformat": 4
 },
 "nbformat": 4,
 "nbformat_minor": 2
}
